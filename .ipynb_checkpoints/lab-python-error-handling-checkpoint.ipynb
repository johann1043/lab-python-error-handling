{
 "cells": [
  {
   "cell_type": "markdown",
   "id": "25d7736c-ba17-4aff-b6bb-66eba20fbf4e",
   "metadata": {},
   "source": [
    "# Lab | Error Handling"
   ]
  },
  {
   "cell_type": "markdown",
   "id": "bc99b386-7508-47a0-bcdb-d969deaf6c8b",
   "metadata": {},
   "source": [
    "def initialize_inventory(products):\n",
    "    inventory = {}\n",
    "    for product in products:\n",
    "        valid_quantity = False\n",
    "        while not valid_quantity:\n",
    "            try:\n",
    "                quantity = int(input(f\"Enter the quantity of {product}s available: \"))\n",
    "                if quantity < 0:\n",
    "                    raise ValueError(\"Invalid quantity! Please enter a non-negative value.\")\n",
    "                valid_quantity = True\n",
    "            except ValueError as error:\n",
    "                print(f\"Error: {error}\")\n",
    "        inventory[product] = quantity\n",
    "    return inventory\n",
    "\n",
    "# Or, in another way:\n",
    "\n",
    "def initialize_inventory(products):\n",
    "    inventory = {}\n",
    "    for product in products:\n",
    "        valid_input = False\n",
    "        while not valid_input:\n",
    "            try:\n",
    "                quantity = int(input(f\"Enter the quantity of {product}s available: \"))\n",
    "                if quantity >= 0:\n",
    "                    inventory[product] = quantity\n",
    "                    valid_input = True\n",
    "                else:\n",
    "                    print(\"Quantity cannot be negative. Please enter a valid quantity.\")\n",
    "            except ValueError:\n",
    "                print(\"Invalid input. Please enter a valid quantity.\")\n",
    "    return inventory## Exercise: Error Handling for Managing Customer Orders\n",
    "\n",
    "The implementation of your code for managing customer orders assumes that the user will always enter a valid input. \n",
    "\n",
    "For example, we could modify the `initialize_inventory` function to include error handling.\n",
    "   - If the user enters an invalid quantity (e.g., a negative value or a non-numeric value), display an error message and ask them to re-enter the quantity for that product.\n",
    "   - Use a try-except block to handle the error and continue prompting the user until a valid quantity is entered.\n",
    "\n",
    "```python\n",
    "# Step 1: Define the function for initializing the inventory with error handling\n",
    "def initialize_inventory(products):\n",
    "    inventory = {}\n",
    "    for product in products:\n",
    "        valid_quantity = False\n",
    "        while not valid_quantity:\n",
    "            try:\n",
    "                quantity = int(input(f\"Enter the quantity of {product}s available: \"))\n",
    "                if quantity < 0:\n",
    "                    raise ValueError(\"Invalid quantity! Please enter a non-negative value.\")\n",
    "                valid_quantity = True\n",
    "            except ValueError as error:\n",
    "                print(f\"Error: {error}\")\n",
    "        inventory[product] = quantity\n",
    "    return inventory\n",
    "\n",
    "# Or, in another way:\n",
    "\n",
    "def initialize_inventory(products):\n",
    "    inventory = {}\n",
    "    for product in products:\n",
    "        valid_input = False\n",
    "        while not valid_input:\n",
    "            try:\n",
    "                quantity = int(input(f\"Enter the quantity of {product}s available: \"))\n",
    "                if quantity >= 0:\n",
    "                    inventory[product] = quantity\n",
    "                    valid_input = True\n",
    "                else:\n",
    "                    print(\"Quantity cannot be negative. Please enter a valid quantity.\")\n",
    "            except ValueError:\n",
    "                print(\"Invalid input. Please enter a valid quantity.\")\n",
    "    return inventory\n",
    "```\n",
    "\n",
    "Let's enhance your code by implementing error handling to handle invalid inputs.\n",
    "\n",
    "Follow the steps below to complete the exercise:\n",
    "\n",
    "2. Modify the `calculate_total_price` function to include error handling.\n",
    "   - If the user enters an invalid price (e.g., a negative value or a non-numeric value), display an error message and ask them to re-enter the price for that product.\n",
    "   - Use a try-except block to handle the error and continue prompting the user until a valid price is entered.\n",
    "\n",
    "3. Modify the `get_customer_orders` function to include error handling.\n",
    "   - If the user enters an invalid number of orders (e.g., a negative value or a non-numeric value), display an error message and ask them to re-enter the number of orders.\n",
    "   - If the user enters an invalid product name (e.g., a product name that is not in the inventory), or that doesn't have stock available, display an error message and ask them to re-enter the product name. *Hint: you will need to pass inventory as a parameter*\n",
    "   - Use a try-except block to handle the error and continue prompting the user until a valid product name is entered.\n",
    "\n",
    "4. Test your code by running the program and deliberately entering invalid quantities and product names. Make sure the error handling mechanism works as expected.\n"
   ]
  },
  {
   "cell_type": "code",
   "execution_count": 29,
   "id": "b9fb32e0-4d90-46eb-b7b5-756e77e6e1a8",
   "metadata": {
    "tags": []
   },
   "outputs": [],
   "source": [
    "product_list = [\"t-shirt\", \"mug\", \"hat\", \"book\", \"keychain\"]"
   ]
  },
  {
   "cell_type": "code",
   "execution_count": 30,
   "id": "0ebffae9-63f2-4552-adbe-7cf0152a7418",
   "metadata": {
    "tags": []
   },
   "outputs": [],
   "source": [
    "def initialize_inventory(products):\n",
    "    inventory = {}\n",
    "    for product in products:\n",
    "        valid_input = False\n",
    "        while not valid_input:\n",
    "            try:\n",
    "                quantity = int(input(f\"Enter the quantity of {product}s available: \"))\n",
    "                if quantity >= 0:\n",
    "                    inventory[product] = quantity\n",
    "                    valid_input = True\n",
    "                else:\n",
    "                    print(\"Quantity cannot be negative. Please enter a valid quantity.\")\n",
    "            except ValueError:\n",
    "                print(\"Invalid input. Please enter a valid quantity.\")\n",
    "    return inventory"
   ]
  },
  {
   "cell_type": "code",
   "execution_count": 31,
   "id": "9fc0beb2-46df-4a93-af6d-d48052866a59",
   "metadata": {
    "tags": []
   },
   "outputs": [],
   "source": [
    "def get_customer_orders(inventory):\n",
    "    \n",
    "    valid_order_number = False\n",
    "    \n",
    "    while not valid_order_number:\n",
    "        try:\n",
    "            ordered_items = int(input(\"Enter the number of customer orders:\"))\n",
    "            if ordered_items > 0:\n",
    "                valid_order_number = True\n",
    "            else:\n",
    "                    print(\"Cutomer oders cannot be negative or 0. Please enter a valid quantity.\")\n",
    "        except ValueError:\n",
    "                print(\"Invalid input. Please enter a valid quantity.\")\n",
    "            \n",
    "    \n",
    "    \n",
    "    customer_orders = []\n",
    "    \n",
    "    for numbers in range(ordered_items):\n",
    "        valid_order = False\n",
    "        while not valid_order:\n",
    "            try:\n",
    "                order = input(\"Enter the name of a product that a customer wants to order:\").strip().lower()\n",
    "                if order in inventory.keys():\n",
    "                    customer_orders.append(order)\n",
    "                    valid_order = True\n",
    "                else:\n",
    "                    print(\"This Item is not in our Inventory Choose one of the following\")\n",
    "                    for item in inventory.keys():\n",
    "                        print(f\"{item}\")\n",
    "            except:\n",
    "                print(\"Invalid input. Please enter a valid input.\")\n",
    "                \n",
    "    return customer_orders"
   ]
  },
  {
   "cell_type": "code",
   "execution_count": 32,
   "id": "65b3d13a-eece-443d-9849-67c9942d2a3f",
   "metadata": {
    "tags": []
   },
   "outputs": [],
   "source": [
    "def calculate_total_price (customer_orders):\n",
    "    price_list = []\n",
    "    for item in customer_orders:\n",
    "        valid_number = False\n",
    "        try:\n",
    "            add_price = int(input(f\"Please enter the price of {item} (only numbers)\"))\n",
    "            if add_price > 0:\n",
    "                price_list.append(add_price)\n",
    "                valid_number = True\n",
    "            else:\n",
    "                    print(\"Cutomer oders cannot be negative or 0. Please enter a valid quantity.\")\n",
    "        except ValueError:\n",
    "                print(\"Invalid input. Please enter a valid quantity.\")\n",
    "    \n",
    "    print(f'Total price {sum(price_list)}$')\n",
    "    return sum(price_list)"
   ]
  },
  {
   "cell_type": "code",
   "execution_count": 33,
   "id": "367e4bf8-c15a-4438-a169-964cfb53b872",
   "metadata": {
    "tags": []
   },
   "outputs": [
    {
     "name": "stdin",
     "output_type": "stream",
     "text": [
      "Enter the quantity of t-shirts available:  10\n",
      "Enter the quantity of mugs available:  10\n",
      "Enter the quantity of hats available:  10\n",
      "Enter the quantity of books available:  10\n",
      "Enter the quantity of keychains available:  10\n",
      "Enter the number of customer orders: 3\n",
      "Enter the name of a product that a customer wants to order: hh\n"
     ]
    },
    {
     "name": "stdout",
     "output_type": "stream",
     "text": [
      "This Item is not in our Inventory Choose one of the following\n",
      "t-shirt\n",
      "mug\n",
      "hat\n",
      "book\n",
      "keychain\n"
     ]
    },
    {
     "name": "stdin",
     "output_type": "stream",
     "text": [
      "Enter the name of a product that a customer wants to order: hat\n",
      "Enter the name of a product that a customer wants to order: mug\n",
      "Enter the name of a product that a customer wants to order: book\n",
      "Please enter the price of hat (only numbers) 12\n",
      "Please enter the price of mug (only numbers) 12\n",
      "Please enter the price of book (only numbers) 12\n"
     ]
    },
    {
     "name": "stdout",
     "output_type": "stream",
     "text": [
      "Total price 36$\n"
     ]
    },
    {
     "data": {
      "text/plain": [
       "36"
      ]
     },
     "execution_count": 33,
     "metadata": {},
     "output_type": "execute_result"
    }
   ],
   "source": [
    "inventory = initialize_inventory(product_list)\n",
    "customer_orders = get_customer_orders(inventory)\n",
    "calculate_total_price (customer_orders)"
   ]
  },
  {
   "cell_type": "code",
   "execution_count": null,
   "id": "d5753c50-94b9-4f8e-abc3-f00ec2a01607",
   "metadata": {},
   "outputs": [],
   "source": []
  }
 ],
 "metadata": {
  "kernelspec": {
   "display_name": "Python 3 (ipykernel)",
   "language": "python",
   "name": "python3"
  },
  "language_info": {
   "codemirror_mode": {
    "name": "ipython",
    "version": 3
   },
   "file_extension": ".py",
   "mimetype": "text/x-python",
   "name": "python",
   "nbconvert_exporter": "python",
   "pygments_lexer": "ipython3",
   "version": "3.11.5"
  }
 },
 "nbformat": 4,
 "nbformat_minor": 5
}
